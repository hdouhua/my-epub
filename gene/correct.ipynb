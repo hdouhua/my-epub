{
 "cells": [
  {
   "cell_type": "markdown",
   "metadata": {},
   "source": [
    "# typo correction"
   ]
  },
  {
   "cell_type": "code",
   "execution_count": 1,
   "metadata": {},
   "outputs": [],
   "source": [
    "import os\n",
    "from pathlib import Path\n"
   ]
  },
  {
   "cell_type": "code",
   "execution_count": 2,
   "metadata": {},
   "outputs": [],
   "source": [
    "mapping = [\n",
    "    [\"威谢\", \"感谢\"],\n",
    "    [\"威激\", \"感激\"],\n",
    "    [\"威恩\", \"感恩\"],\n",
    "    [\"威觉\", \"感觉\"],\n",
    "    [\"威受\", \"感受\"],\n",
    "    [\"情威\", \"情感\"],\n",
    "    [\"威情\", \"感情\"],\n",
    "    [\"威知\", \"感知\"],\n",
    "    [\"戚知\", \"感知\"],\n",
    "    [\"厌知\", \"感知\"],\n",
    "    [\"凤知\", \"感知\"],\n",
    "    [\"咸知\", \"感知\"],\n",
    "    [\"威染\", \"感染\"],\n",
    "    [\"戚染\", \"感染\"],\n",
    "    [\"反戚\", \"反感\"],\n",
    "    [\"情戚\", \"情感\"],\n",
    "    [\"情厌\", \"情感\"],\n",
    "    [\"情咸\", \"情感\"],\n",
    "    [\"厌情\", \"感情\"],\n",
    "    [\"厌受\", \"感受\"],\n",
    "    [\"厌觉\", \"感觉\"],\n",
    "    [\"戚谢\", \"感谢\"],\n",
    "    [\"戚激\", \"感激\"],\n",
    "    [\"戚恩\", \"感恩\"],\n",
    "    [\"灵戚\", \"灵感\"],\n",
    "    [\"敏戚\", \"敏感\"],\n",
    "    [\"不安戚\", \"不安感\"],\n",
    "    [\"不安威\", \"不安感\"],\n",
    "    [\"安全戚\", \"安全感\"],\n",
    "    [\"安全威\", \"安全感\"],\n",
    "    [\"安全厌\", \"安全感\"],\n",
    "    [\"安全凤\", \"安全感\"],\n",
    "    [\"威到\", \"感到\"],\n",
    "    [\"戚到\", \"感到\"],\n",
    "    [\"凤到\", \"感到\"],\n",
    "    [\"凤受\", \"感受\"],\n",
    "    [\"凤觉\", \"感觉\"],\n",
    "    [\"戚情\", \"感情\"],\n",
    "    [\"戚觉\", \"感觉\"],\n",
    "    [\"咸觉\", \"感觉\"],\n",
    "    [\"戚受\", \"感受\"],\n",
    "    [\"呜谢\", \"鸣谢\"],\n",
    "    [\"共呜\", \"共鸣\"],\n",
    "    [\"開敔\", \"开启\"],\n",
    "    [\"开敔\", \"开启\"],\n",
    "    [\"敔動\", \"启动\"],\n",
    "    [\"敔迪\", \"启迪\"],\n",
    "    [\"敔动\", \"启动\"],\n",
    "    [\"敔始\", \"启始\"],\n",
    "    [\"敔蒙\", \"启蒙\"],\n",
    "    [\"敔发\", \"启发\"],\n",
    "    [\"敔悟\", \"启悟\"],\n",
    "    [\"数悟\", \"启悟\"],\n",
    "    [\"敌悟\", \"启悟\"],\n",
    "    [\"敔示\", \"启示\"],\n",
    "    [\"夭赋\", \"天赋\"],\n",
    "    [\"夭性\", \"天性\"],\n",
    "    [\"时问\", \"时间\"],\n",
    "    [\"之问\", \"之间\"],\n",
    "    [\"人问\", \"人间\"],\n",
    "    [\"空问\", \"空间\"],\n",
    "    [\"其问\", \"其间\"],\n",
    "    [\"瞬问\", \"瞬间\"],\n",
    "    [\"貝叮\", \"则\"],\n",
    "    [\"糸田胞\", \"细胞\"],\n",
    "    [\"弓―\", \"引\"],\n",
    "    [\"肢酸\", \"胺酸\"],\n",
    "    [\"胶酸\", \"胺酸\"],\n",
    "    [\"肢基酸\", \"胺基酸\"],\n",
    "    [\"胶基酸\", \"胺基酸\"],\n",
    "    [\"身侬\", \"身体\"],\n",
    "    [\"肉侬\", \"肉体\"],\n",
    "    [\"集侬\", \"集体\"],\n",
    "    [\"牺性\", \"牺牲\"],\n",
    "    [\"岭现\", \"发现\"],\n",
    "    [\"岭生\", \"发生\"],\n",
    "    [\"无怯\", \"无法\"],\n",
    "    [\"看怯\", \"看法\"],\n",
    "    [\"办怯\", \"办法\"],\n",
    "    [\"做怯\", \"做法\"],\n",
    "    [\"做怯\", \"做法\"],\n",
    "    # [\"繁张\",\"紧张\"],\n",
    "\n",
    "]\n",
    "\n",
    "# [\"‘已\", \"心\"]\n",
    "# [\"嫡\",\"熵\"],\n",
    "# ] 」\n",
    "\n",
    "# r J ： · ‘ 邺 “ 哈 弓 威 凤 戚 厌 咸 夭 审 霄 岭 诂 褊 廊 贝 一一\n",
    "\n",
    "# for it in mapping:\n",
    "#     print(f\"{it[0]} : {it[1]}\")\n"
   ]
  },
  {
   "cell_type": "code",
   "execution_count": 3,
   "metadata": {},
   "outputs": [],
   "source": [
    "def replace(content, mapping):\n",
    "    for it in mapping:\n",
    "        content = content.replace(it[0], it[1])\n",
    "    return content\n"
   ]
  },
  {
   "cell_type": "code",
   "execution_count": 4,
   "metadata": {},
   "outputs": [],
   "source": [
    "p = Path('./content/')\n",
    "files = [f.as_posix() for f in p.glob('**/*.md')]\n",
    "\n",
    "for f in files:\n",
    "    content = None\n",
    "\n",
    "    with open(f, \"r\") as input_file:\n",
    "        content = input_file.read()\n",
    "\n",
    "    content = replace(content, mapping)\n",
    "\n",
    "    if content is not None:\n",
    "        with open(f, \"w\") as input_file:\n",
    "            input_file.write(content)\n"
   ]
  },
  {
   "cell_type": "code",
   "execution_count": null,
   "metadata": {},
   "outputs": [],
   "source": []
  }
 ],
 "metadata": {
  "kernelspec": {
   "display_name": "Python 3.9.12 ('base')",
   "language": "python",
   "name": "python3"
  },
  "language_info": {
   "codemirror_mode": {
    "name": "ipython",
    "version": 3
   },
   "file_extension": ".py",
   "mimetype": "text/x-python",
   "name": "python",
   "nbconvert_exporter": "python",
   "pygments_lexer": "ipython3",
   "version": "3.9.12"
  },
  "orig_nbformat": 4,
  "vscode": {
   "interpreter": {
    "hash": "c0a4e38f63bf4a03ec6a3cf2705553127cd8b3b99ebb7a2d6436861b11eb0b7c"
   }
  }
 },
 "nbformat": 4,
 "nbformat_minor": 2
}
