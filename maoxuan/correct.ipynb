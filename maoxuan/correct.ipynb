{
 "cells": [
  {
   "attachments": {},
   "cell_type": "markdown",
   "metadata": {},
   "source": [
    "# typo correction"
   ]
  },
  {
   "cell_type": "code",
   "execution_count": null,
   "metadata": {},
   "outputs": [],
   "source": [
    "import os\n",
    "from pathlib import Path\n",
    "import re"
   ]
  },
  {
   "cell_type": "code",
   "execution_count": null,
   "metadata": {},
   "outputs": [],
   "source": [
    "DEBUG = False\n",
    "\n",
    "def debug(message):\n",
    "    if DEBUG:\n",
    "        print(message)"
   ]
  },
  {
   "cell_type": "code",
   "execution_count": null,
   "metadata": {},
   "outputs": [],
   "source": [
    "filename = \"01-07\"\n",
    "f = Path(f'./content/{filename}.md').as_posix()"
   ]
  },
  {
   "attachments": {},
   "cell_type": "markdown",
   "metadata": {},
   "source": [
    "## charaters replacement"
   ]
  },
  {
   "cell_type": "code",
   "execution_count": null,
   "metadata": {},
   "outputs": [],
   "source": [
    "mapping = [\n",
    "    [\"○\", \"〇\"],\n",
    "    [\";\", \"；\"],\n",
    "]\n",
    "\n",
    "# for it in mapping:\n",
    "#     print(f\"{it[0]} : {it[1]}\")\n"
   ]
  },
  {
   "cell_type": "code",
   "execution_count": null,
   "metadata": {},
   "outputs": [],
   "source": [
    "def replace(file, mapping):\n",
    "    with open(file, \"r\") as input_file:\n",
    "        content = input_file.read()\n",
    "        debug(len(content))\n",
    "\n",
    "    if content is not None and len(content) > 0:\n",
    "        for it in mapping:\n",
    "            content = content.replace(it[0], it[1])\n",
    "        debug(len(content))\n",
    "\n",
    "        with open(file, \"w\") as input_file:\n",
    "            input_file.write(content)\n",
    "        \n",
    "        print(f'{file} done')\n",
    "    else:\n",
    "        print(f'{file} is empty')\n"
   ]
  },
  {
   "cell_type": "code",
   "execution_count": null,
   "metadata": {},
   "outputs": [],
   "source": [
    "replace(f, mapping)"
   ]
  },
  {
   "attachments": {},
   "cell_type": "markdown",
   "metadata": {},
   "source": [
    "do for all markdown files"
   ]
  },
  {
   "cell_type": "code",
   "execution_count": null,
   "metadata": {},
   "outputs": [],
   "source": [
    "p = Path('./content/')\n",
    "files = [f.as_posix() for f in p.glob('**/*.md')]\n",
    "\n",
    "for f in files:\n",
    "    replace(f, mapping)\n"
   ]
  },
  {
   "attachments": {},
   "cell_type": "markdown",
   "metadata": {},
   "source": [
    "## regex replacement"
   ]
  },
  {
   "cell_type": "code",
   "execution_count": null,
   "metadata": {},
   "outputs": [],
   "source": [
    "def replaceRegex(file, pattern, replacement):\n",
    "    with open(file, \"r\") as input_file:\n",
    "        content = input_file.read()\n",
    "        debug(len(content))\n",
    "\n",
    "    if content is not None and len(content) > 0:\n",
    "        content = re.sub(pattern, replacement, content)\n",
    "        debug(len(content))\n",
    "\n",
    "        with open(file, \"w\") as input_file:\n",
    "            input_file.write(content)\n",
    "        \n",
    "        print('done')\n",
    "    else:\n",
    "        print(f'{file} is empty')\n"
   ]
  },
  {
   "cell_type": "code",
   "execution_count": null,
   "metadata": {},
   "outputs": [],
   "source": [
    "# 1\n",
    "pattern = r\"[^\\n注]〔(\\d+)〕\"\n",
    "# replace with the backreference\n",
    "replacement = rf\"[^{filename}-\\1]\"\n",
    "replaceRegex(f, pattern, replacement)"
   ]
  },
  {
   "cell_type": "code",
   "execution_count": null,
   "metadata": {},
   "outputs": [],
   "source": [
    "# 2\n",
    "pattern = r\"\\n〔(\\d+)〕\"\n",
    "replacement = rf\"\\n[^{filename}-\\1]: \"\n",
    "replaceRegex(f, pattern, replacement)"
   ]
  },
  {
   "cell_type": "code",
   "execution_count": null,
   "metadata": {},
   "outputs": [],
   "source": [
    "# 3\n",
    "# (?<![#:]): Negative lookbehind assertion to ensure that the matched whitespace character is not preceded by # or :.\n",
    "# \\s: Matches a whitespace character.\n",
    "# (?![\\n\\r]): Negative lookahead assertion to ensure that the matched whitespace character is not followed by a newline character (\\n) or a carriage return character (\\r).\n",
    "# (?<=sample): Positive lookbehind assertion to match the position that is preceded by the substring \"sample\".\n",
    "# (?=:): Positive lookahead assertion to match the position that is followed by the character \":\".\n",
    "\n",
    "pattern = r\"(?<![#:.0-9A-Za-z])\\s(?<![\\r\\n])\"\n",
    "replacement = \"\"\n",
    "replaceRegex(f, pattern, replacement)"
   ]
  },
  {
   "cell_type": "code",
   "execution_count": null,
   "metadata": {},
   "outputs": [],
   "source": [
    "# 4\n",
    "pattern = r\"[^\\]]:\"\n",
    "replacement = \"：\"\n",
    "replaceRegex(f, pattern, replacement)"
   ]
  },
  {
   "cell_type": "code",
   "execution_count": null,
   "metadata": {},
   "outputs": [],
   "source": []
  }
 ],
 "metadata": {
  "kernelspec": {
   "display_name": "Python 3.9.12 ('base')",
   "language": "python",
   "name": "python3"
  },
  "language_info": {
   "codemirror_mode": {
    "name": "ipython",
    "version": 3
   },
   "file_extension": ".py",
   "mimetype": "text/x-python",
   "name": "python",
   "nbconvert_exporter": "python",
   "pygments_lexer": "ipython3",
   "version": "3.9.12"
  },
  "orig_nbformat": 4,
  "vscode": {
   "interpreter": {
    "hash": "c0a4e38f63bf4a03ec6a3cf2705553127cd8b3b99ebb7a2d6436861b11eb0b7c"
   }
  }
 },
 "nbformat": 4,
 "nbformat_minor": 2
}
