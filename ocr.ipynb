{
 "cells": [
  {
   "cell_type": "markdown",
   "metadata": {},
   "source": [
    "# Optical Character Recognition\n",
    "\n",
    "this is an picture to text converter.\n",
    "\n",
    "## manual\n",
    "\n",
    "please refer to <https://www.onlineocr.net/zh_hans/service/pricing>\n",
    "\n",
    "## automation tool's document\n",
    "\n",
    "please refer to <https://www.ocrwebservice.com/api/restguide>"
   ]
  },
  {
   "cell_type": "code",
   "execution_count": null,
   "metadata": {},
   "outputs": [],
   "source": [
    "import json\n",
    "import shutil"
   ]
  },
  {
   "cell_type": "code",
   "execution_count": null,
   "metadata": {},
   "outputs": [],
   "source": [
    "# your account of REST AP\n",
    "UserName = \"xxxxx\"\n",
    "LicenseCode = \"E50BEE5D-98FF-46A6-9AFB-83FF7A673B48\"\n",
    "\n",
    "try:\n",
    "    import requests\n",
    "except ImportError:\n",
    "    print(\"You need the requests library to be installed in order to use this sample.\")\n",
    "    print(\"Run 'pip install requests' to fix it.\")\n",
    "\n",
    "    exit()\n"
   ]
  },
  {
   "cell_type": "code",
   "execution_count": null,
   "metadata": {},
   "outputs": [],
   "source": [
    "# settings\n",
    "Language = \"chinesetraditional\"\n",
    "OutputFormat = \"docx\"\n",
    "PageRange = \"allpages\"\n",
    "PartIndex = \"029\"\n",
    "\n",
    "# API URL\n",
    "RequestUrl = f\"https://www.ocrwebservice.com/restservices/processDocument?language={Language}&pagerange={PageRange}&outputformat={OutputFormat}\"\n",
    "\n",
    "# Base directory\n",
    "BaseDir = \"./gene\"\n",
    "\n",
    "# Full path to uploaded document\n",
    "FilePath = f\"{BaseDir}/res/{PartIndex}.pdf\"\n",
    "\n",
    "with open(FilePath, \"rb\") as input_file:\n",
    "    input_data = input_file.read()\n",
    "\n",
    "r = requests.post(RequestUrl, data=input_data, auth=(UserName, LicenseCode))\n",
    "\n",
    "if r.status_code == 401:\n",
    "    # Please provide valid username and license code\n",
    "    print(\"Unauthorized request\")\n",
    "    exit()\n",
    "\n",
    "# Decode Output response\n",
    "jobj = json.loads(r.content)\n",
    "\n",
    "ocrError = str(jobj[\"ErrorMessage\"])\n",
    "\n",
    "if ocrError != '':\n",
    "    # Error occurs during recognition\n",
    "    print(\"Recognition Error: \" + ocrError)\n",
    "    exit()\n",
    "\n",
    "# Task description\n",
    "print(\"Task Description:\" + str(jobj[\"TaskDescription\"]))\n",
    "\n",
    "# Available pages\n",
    "print(\"Available Pages:\" + str(jobj[\"AvailablePages\"]))\n",
    "\n",
    "# Processed pages\n",
    "print(\"Processed Pages:\" + str(jobj[\"ProcessedPages\"]))\n",
    "\n",
    "# # Extracted text from first or single page\n",
    "# print(\"Extracted Text:\" + str(jobj[\"OCRText\"][0][0]))\n",
    "\n",
    "# Download output file (if outputformat was specified)\n",
    "file_response = requests.get(jobj[\"OutputFileUrl\"], stream=True)\n",
    "with open(f\"{BaseDir}/{PartIndex}.{OutputFormat}\", \"wb\") as output_file:\n",
    "    shutil.copyfileobj(file_response.raw, output_file)\n"
   ]
  }
 ],
 "metadata": {
  "kernelspec": {
   "display_name": "Python 3.9.12 ('base')",
   "language": "python",
   "name": "python3"
  },
  "language_info": {
   "codemirror_mode": {
    "name": "ipython",
    "version": 3
   },
   "file_extension": ".py",
   "mimetype": "text/x-python",
   "name": "python",
   "nbconvert_exporter": "python",
   "pygments_lexer": "ipython3",
   "version": "3.9.12"
  },
  "orig_nbformat": 4,
  "vscode": {
   "interpreter": {
    "hash": "c0a4e38f63bf4a03ec6a3cf2705553127cd8b3b99ebb7a2d6436861b11eb0b7c"
   }
  }
 },
 "nbformat": 4,
 "nbformat_minor": 2
}
