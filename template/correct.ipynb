{
 "cells": [
  {
   "cell_type": "markdown",
   "metadata": {},
   "source": [
    "# typo correction"
   ]
  },
  {
   "cell_type": "code",
   "execution_count": 1,
   "metadata": {},
   "outputs": [],
   "source": [
    "import os\n",
    "from pathlib import Path\n"
   ]
  },
  {
   "cell_type": "code",
   "execution_count": 2,
   "metadata": {},
   "outputs": [],
   "source": [
    "mapping = []\n",
    "\n",
    "# for it in mapping:\n",
    "#     print(f\"{it[0]} : {it[1]}\")\n"
   ]
  },
  {
   "cell_type": "code",
   "execution_count": 3,
   "metadata": {},
   "outputs": [],
   "source": [
    "def replace(content, mapping):\n",
    "    for it in mapping:\n",
    "        content = content.replace(it[0], it[1])\n",
    "    return content\n"
   ]
  },
  {
   "cell_type": "code",
   "execution_count": 4,
   "metadata": {},
   "outputs": [],
   "source": [
    "p = Path('./content/')\n",
    "files = [f.as_posix() for f in p.glob('**/*.md')]\n",
    "\n",
    "for f in files:\n",
    "    content = None\n",
    "\n",
    "    with open(f, \"r\") as input_file:\n",
    "        content = input_file.read()\n",
    "\n",
    "    content = replace(content, mapping)\n",
    "\n",
    "    if content is not None:\n",
    "        with open(f, \"w\") as input_file:\n",
    "            input_file.write(content)\n"
   ]
  },
  {
   "cell_type": "code",
   "execution_count": null,
   "metadata": {},
   "outputs": [],
   "source": []
  }
 ],
 "metadata": {
  "kernelspec": {
   "display_name": "Python 3.9.12 ('base')",
   "language": "python",
   "name": "python3"
  },
  "language_info": {
   "codemirror_mode": {
    "name": "ipython",
    "version": 3
   },
   "file_extension": ".py",
   "mimetype": "text/x-python",
   "name": "python",
   "nbconvert_exporter": "python",
   "pygments_lexer": "ipython3",
   "version": "3.9.12"
  },
  "orig_nbformat": 4,
  "vscode": {
   "interpreter": {
    "hash": "c0a4e38f63bf4a03ec6a3cf2705553127cd8b3b99ebb7a2d6436861b11eb0b7c"
   }
  }
 },
 "nbformat": 4,
 "nbformat_minor": 2
}
